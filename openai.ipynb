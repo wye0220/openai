{
 "cells": [
  {
   "cell_type": "code",
   "execution_count": null,
   "id": "6704d596-98a4-4a66-b6e5-3843e3f8ba39",
   "metadata": {},
   "outputs": [],
   "source": [
    "\n",
    "import openai\n",
    "import os\n",
    "from openai.embeddings_utils import cosine_similarity, get_embedding\n",
    "\n",
    "# get your API key from https://beta.openai.com/account/api-keys\n",
    "openai.api_key = os.getenv(\"OPENAI_API_KEY\")\n",
    "# get the model ID from https://beta.openai.com/models\n",
    "EMBEDDING_MODEL = \"text-embedding-ada-002\"\n",
    "\n",
    "# 获取\"好评\"和\"差评\"的\n",
    "positive_review = get_embedding(\"Positive Feedback\")\n",
    "negative_review = get_embedding(\"Negative Feedback\")\n",
    "\n",
    "positive_example = get_embedding(\"\"\"\n",
    "The silver version I bought is really nice-looking, and it arrived in just one day. \n",
    "I started using it at night and found the system to be very smooth and responsive. \n",
    "The build quality is solid, and the touch feeling is delicate and exquisite. \n",
    "Apple has always provided good quality products.\n",
    "\"\"\")\n",
    "negative_example = get_embedding(\"The price drop is significant, but the price protection policy is unreasonable. I do not recommend it.\")\n",
    "\n",
    "def get_score(sample_embedding):\n",
    "  return cosine_similarity(sample_embedding, positive_review) - cosine_similarity(sample_embedding, negative_review)\n",
    "\n",
    "positive_score = get_score(positive_example)\n",
    "negative_score = get_score(negative_example)\n",
    "\n",
    "print(\"Positive review rating : %f\" % (positive_score))\n",
    "print(\"negative review rating : %f\" % (negative_score))"
   ]
  },
  {
   "cell_type": "code",
   "execution_count": null,
   "id": "55d51db4-04c9-4116-b535-2a5bf4b350d1",
   "metadata": {},
   "outputs": [],
   "source": [
    "good_restaurant = get_embedding(\"This restaurant is so delicious, not bad at all.\")\n",
    "bad_restaurant = get_embedding(\"This restaurant is so terrible, not delicious at all.\")\n",
    "\n",
    "good_score = get_score(good_restraurant)\n",
    "bad_score = get_score(bad_restraurant)\n",
    "print(\"Postivie Restaurant Rating : %f\" % (good_score))\n",
    "print(\"Negative Restaurant Rating : %f\" % (bad_score))"
   ]
  },
  {
   "cell_type": "code",
   "execution_count": null,
   "id": "4b01206a-4f4a-45bb-94a7-f86efd93c0b0",
   "metadata": {},
   "outputs": [],
   "source": [
    "\n",
    "import pandas as pd\n",
    "import numpy as np\n",
    "import os\n",
    "\n",
    "from sklearn.metrics import classification_report\n",
    "\n",
    "current_directory = os.getcwd()\n",
    "\n",
    "datafile_path = str(current_directory)+\"/data/food_reviews_with_embeddings_1k.csv\"\n",
    "\n",
    "print(datafile_path)\n",
    "\n",
    "df = pd.read_csv(datafile_path)\n",
    "df[\"embedding\"] = df.embedding.apply(eval).apply(np.array)\n",
    "\n",
    "# convert 5-star rating to binary sentiment\n",
    "df = df[df.Score != 3]\n",
    "df[\"sentiment\"] = df.Score.replace({1: \"negative\", 2: \"negative\", 4: \"positive\", 5: \"positive\"})"
   ]
  },
  {
   "cell_type": "code",
   "execution_count": null,
   "id": "2470ddb3-93c1-4843-ab7e-dd9e84251058",
   "metadata": {},
   "outputs": [],
   "source": [
    "\n",
    "from sklearn.metrics import PrecisionRecallDisplay\n",
    "\n",
    "def evaluate_embeddings_approach(\n",
    "    labels = ['negative', 'positive'], \n",
    "    model = EMBEDDING_MODEL,\n",
    "):\n",
    "    label_embeddings = [get_embedding(label, engine=model) for label in labels]\n",
    "\n",
    "    def label_score(review_embedding, label_embeddings):\n",
    "        return cosine_similarity(review_embedding, label_embeddings[1]) - cosine_similarity(review_embedding, label_embeddings[0])\n",
    "\n",
    "    probas = df[\"embedding\"].apply(lambda x: label_score(x, label_embeddings))\n",
    "    preds = probas.apply(lambda x: 'positive' if x>0 else 'negative')\n",
    "\n",
    "    report = classification_report(df.sentiment, preds)\n",
    "    print(report)\n",
    "\n",
    "    display = PrecisionRecallDisplay.from_predictions(df.sentiment, probas, pos_label='positive')\n",
    "    _ = display.ax_.set_title(\"2-class Precision-Recall curve\")\n",
    "\n",
    "evaluate_embeddings_approach(labels=['An Amazon review with a negative sentiment.', 'An Amazon review with a positive sentiment.'])"
   ]
  },
  {
   "cell_type": "code",
   "execution_count": null,
   "id": "26f258eb-547c-452f-a340-8ad9bcb04ef4",
   "metadata": {},
   "outputs": [],
   "source": []
  }
 ],
 "metadata": {
  "kernelspec": {
   "display_name": "Python 3 (ipykernel)",
   "language": "python",
   "name": "python3"
  },
  "language_info": {
   "codemirror_mode": {
    "name": "ipython",
    "version": 3
   },
   "file_extension": ".py",
   "mimetype": "text/x-python",
   "name": "python",
   "nbconvert_exporter": "python",
   "pygments_lexer": "ipython3",
   "version": "3.10.10"
  }
 },
 "nbformat": 4,
 "nbformat_minor": 5
}
